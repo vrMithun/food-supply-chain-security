{
 "cells": [
  {
   "cell_type": "markdown",
   "id": "66fa96df-3fa8-4336-91e6-cfcccb41fde0",
   "metadata": {},
   "source": [
    "# Food Supply Chain Security Using Homomorphic MAC and Merkle Tree"
   ]
  },
  {
   "cell_type": "markdown",
   "id": "954d200b-5c92-44d9-9c80-9700cc86c9b7",
   "metadata": {},
   "source": [
    "### Install required packages"
   ]
  },
  {
   "cell_type": "code",
   "execution_count": 1,
   "id": "7a66b1ba-adbf-420c-b8a3-2d90b27dd278",
   "metadata": {},
   "outputs": [
    {
     "name": "stdout",
     "output_type": "stream",
     "text": [
      "Requirement already satisfied: matplotlib in .\\venv\\lib\\site-packages (3.10.3)\n",
      "Requirement already satisfied: contourpy>=1.0.1 in .\\venv\\lib\\site-packages (from matplotlib) (1.3.2)\n",
      "Requirement already satisfied: cycler>=0.10 in .\\venv\\lib\\site-packages (from matplotlib) (0.12.1)\n",
      "Requirement already satisfied: fonttools>=4.22.0 in .\\venv\\lib\\site-packages (from matplotlib) (4.58.2)\n",
      "Requirement already satisfied: kiwisolver>=1.3.1 in .\\venv\\lib\\site-packages (from matplotlib) (1.4.8)\n",
      "Requirement already satisfied: numpy>=1.23 in .\\venv\\lib\\site-packages (from matplotlib) (2.3.0)\n",
      "Requirement already satisfied: packaging>=20.0 in .\\venv\\lib\\site-packages (from matplotlib) (25.0)\n",
      "Requirement already satisfied: pillow>=8 in .\\venv\\lib\\site-packages (from matplotlib) (11.2.1)\n",
      "Requirement already satisfied: pyparsing>=2.3.1 in .\\venv\\lib\\site-packages (from matplotlib) (3.2.3)\n",
      "Requirement already satisfied: python-dateutil>=2.7 in .\\venv\\lib\\site-packages (from matplotlib) (2.9.0.post0)\n",
      "Requirement already satisfied: six>=1.5 in .\\venv\\lib\\site-packages (from python-dateutil>=2.7->matplotlib) (1.17.0)\n"
     ]
    },
    {
     "name": "stderr",
     "output_type": "stream",
     "text": [
      "\n",
      "[notice] A new release of pip is available: 24.0 -> 25.1.1\n",
      "[notice] To update, run: python.exe -m pip install --upgrade pip\n"
     ]
    }
   ],
   "source": [
    "!pip install matplotlib"
   ]
  },
  {
   "cell_type": "markdown",
   "id": "c0c320c9-f350-4a78-80b9-2f1f3ad2de5a",
   "metadata": {},
   "source": [
    "### Import necessary packages"
   ]
  },
  {
   "cell_type": "code",
   "execution_count": 2,
   "id": "9685dcad-e97d-4d68-a220-6aa88f64f92f",
   "metadata": {},
   "outputs": [],
   "source": [
    "import hashlib\n",
    "import json\n",
    "import random\n",
    "import time\n",
    "import json\n",
    "import sys\n",
    "import os"
   ]
  },
  {
   "cell_type": "markdown",
   "id": "7b925a16-8f75-43dd-a466-7cfeb11f6330",
   "metadata": {},
   "source": [
    "### Merkle tree predefined functions"
   ]
  },
  {
   "cell_type": "code",
   "execution_count": 3,
   "id": "c29b9574-8d2f-4331-8664-69ccc84b9683",
   "metadata": {},
   "outputs": [],
   "source": [
    "import hashlib\n",
    "import json\n",
    "\n",
    "# Hash a single sensor entry into a leaf\n",
    "def hash_sensor_entry(entry):\n",
    "    sensor_str = f\"{entry['timestamp']}|{entry['temperature']}|{entry['humidity']}|{entry['location']}\"\n",
    "    return hashlib.sha256(sensor_str.encode()).hexdigest()\n",
    "\n",
    "# Build the full Merkle Tree\n",
    "def build_merkle_tree(leaves):\n",
    "    if not leaves:\n",
    "        return []\n",
    "    tree = [leaves[:]]  # Copy initial leaves\n",
    "    while len(tree[-1]) > 1:\n",
    "        current_level = tree[-1]\n",
    "        next_level = []\n",
    "        for i in range(0, len(current_level), 2):\n",
    "            left = current_level[i]\n",
    "            right = current_level[i + 1] if i + 1 < len(current_level) else left\n",
    "            combined = left + right\n",
    "            parent = hashlib.sha256(combined.encode()).hexdigest()\n",
    "            next_level.append(parent)\n",
    "        tree.append(next_level)\n",
    "    return tree\n",
    "\n",
    "# Extract Merkle root\n",
    "def get_merkle_root(tree):\n",
    "    return tree[-1][0] if tree else None\n",
    "\n",
    "# Load sensor data and compute leaves\n",
    "def load_sensor_data(filename):\n",
    "    with open(filename, \"r\") as f:\n",
    "        data = json.load(f)\n",
    "    sensor_data = data[\"sensor_data\"]\n",
    "    leaves = [hash_sensor_entry(entry) for entry in sensor_data]\n",
    "    return sensor_data, leaves\n",
    "\n",
    "# Merkle proof\n",
    "def get_merkle_proof(tree, index):\n",
    "    proof = []\n",
    "    for level in tree[:-1]:\n",
    "        sibling_index = index ^ 1\n",
    "        proof.append(level[sibling_index] if sibling_index < len(level) else level[index])\n",
    "        index //= 2\n",
    "    return proof\n",
    "\n",
    "# Verify proof\n",
    "def verify_merkle_proof(leaf_hash, proof, root, index):\n",
    "    computed_hash = leaf_hash\n",
    "    for sibling_hash in proof:\n",
    "        if index % 2 == 0:\n",
    "            combined = computed_hash + sibling_hash  # Left + Right\n",
    "        else:\n",
    "            combined = sibling_hash + computed_hash  # Left + Right\n",
    "        computed_hash = hashlib.sha256(combined.encode()).hexdigest()\n",
    "        index //= 2\n",
    "    return computed_hash == root\n",
    "\n",
    "\n"
   ]
  },
  {
   "cell_type": "markdown",
   "id": "e0897b72-7050-44db-8b52-4366db2433a0",
   "metadata": {},
   "source": [
    "### Homomorphic Mac predefined functions"
   ]
  },
  {
   "cell_type": "code",
   "execution_count": 4,
   "id": "d65f5af0-37a8-4992-b799-73123d36d26e",
   "metadata": {},
   "outputs": [],
   "source": [
    "import hashlib\n",
    "from decimal import Decimal, getcontext\n",
    "\n",
    "# Set decimal precision\n",
    "getcontext().prec = 12\n",
    "\n",
    "# Hash input to decimal value\n",
    "def hash_input(input_str):\n",
    "    digest = hashlib.sha256(input_str.encode()).hexdigest()\n",
    "    return Decimal(int(digest, 16) % 10**5)\n",
    "\n",
    "# Generate homomorphic MAC\n",
    "def generate_mac_for_value(label: str, value: float, key: Decimal) -> Decimal:\n",
    "    composite = f\"{label}-{value}\"\n",
    "    return hash_input(composite) * key\n",
    "\n",
    "# Verify aggregate MAC\n",
    "def verify_mac_for_value(label: str, value: float, provided_mac: Decimal, key: Decimal) -> bool:\n",
    "    expected_mac = generate_mac_for_value(label, value, key)\n",
    "    print(f\"[DEBUG] Expected MAC for {label}: {expected_mac}\")\n",
    "    print(f\"[DEBUG] Provided MAC: {provided_mac}\")\n",
    "    return abs(expected_mac - provided_mac) < Decimal(\"0.000001\")\n",
    "\n",
    "# Node used only for structure (no rebuild needed now)\n",
    "class HMACTreeNode:\n",
    "    def __init__(self, timestamp, temperature, key):\n",
    "        self.timestamp = timestamp\n",
    "        self.temperature = Decimal(str(temperature))\n",
    "        self.key = Decimal(str(key))\n",
    "        self.tag = self.compute_tag()\n",
    "\n",
    "    def compute_tag(self):\n",
    "        composite = f\"{self.timestamp}-{self.temperature}\"\n",
    "        hashed = hash_input(composite)\n",
    "        return hashed * self.key\n",
    "\n",
    "class HMACTree:\n",
    "    def __init__(self, key):\n",
    "        self.key = Decimal(str(key))\n",
    "        self.aggregate_tag = Decimal(0)\n",
    "        self.nodes = []\n",
    "\n",
    "    def insert(self, timestamp, temperature):\n",
    "        temperature_decimal = Decimal(str(temperature))\n",
    "        node = HMACTreeNode(timestamp, temperature_decimal, self.key)\n",
    "        self.nodes.append(node)\n",
    "        self.aggregate_tag += node.tag  # Algebraic update of the tag\n",
    "\n",
    "    def compute_aggregates_and_macs(self):\n",
    "        if not self.nodes:\n",
    "            return None, None, None, None, None, None\n",
    "\n",
    "        temperatures = [node.temperature for node in self.nodes]\n",
    "\n",
    "        avg = sum(temperatures) / len(temperatures)\n",
    "        min_val = min(temperatures)\n",
    "        max_val = max(temperatures)\n",
    "\n",
    "        avg_mac = generate_mac_for_value(\"AVG\", avg, self.key)\n",
    "        min_mac = generate_mac_for_value(\"MIN\", min_val, self.key)\n",
    "        max_mac = generate_mac_for_value(\"MAX\", max_val, self.key)\n",
    "\n",
    "        return avg, min_val, max_val, avg_mac, min_mac, max_mac\n",
    "\n",
    "    def verify_aggregate_mac(self, label, value, provided_mac):\n",
    "        return verify_mac_for_value(label, value, provided_mac, self.key)\n"
   ]
  },
  {
   "cell_type": "markdown",
   "id": "3290b4e7-73dd-400c-9c67-535eac0ad2cb",
   "metadata": {},
   "source": [
    "### Main code"
   ]
  },
  {
   "cell_type": "markdown",
   "id": "3c628187-3b0d-415b-a8dc-ede2d62c9346",
   "metadata": {},
   "source": [
    "#### Imports"
   ]
  },
  {
   "cell_type": "code",
   "execution_count": 9,
   "id": "cd423bcb",
   "metadata": {},
   "outputs": [],
   "source": [
    "from merkle_tool.merkle import (\n",
    "    load_sensor_data,\n",
    "    build_merkle_tree,\n",
    "    get_merkle_root,\n",
    "    get_merkle_proof,\n",
    "    verify_merkle_proof,\n",
    "    hash_sensor_entry\n",
    ")\n",
    "\n",
    "from hmac_tool.hmac import HMACTree  # Updated HMAC Tree\n",
    "from decimal import Decimal\n",
    "import json"
   ]
  },
  {
   "cell_type": "markdown",
   "id": "83c1bddd",
   "metadata": {},
   "source": [
    "#### Load Sensor Data and Build Merkle Tree"
   ]
  },
  {
   "cell_type": "code",
   "execution_count": 10,
   "id": "e04e7f7b",
   "metadata": {},
   "outputs": [
    {
     "name": "stdout",
     "output_type": "stream",
     "text": [
      "\n",
      "--- Loading Initial Sensor Data ---\n",
      "Merkle Root: fa777d390df381412abdc09bde769a77aa4c6a44a67a90fac57594256984d352\n"
     ]
    }
   ],
   "source": [
    "print(\"\\n--- Loading Initial Sensor Data ---\")\n",
    "raw_data, leaves = load_sensor_data('data/sensor_values.json')\n",
    "tree = build_merkle_tree(leaves)\n",
    "root = get_merkle_root(tree)\n",
    "print(f\"Merkle Root: {root}\")\n"
   ]
  },
  {
   "cell_type": "markdown",
   "id": "1aeec5a8",
   "metadata": {},
   "source": [
    "#### Generate Merkle Proof and Verify It"
   ]
  },
  {
   "cell_type": "code",
   "execution_count": 11,
   "id": "1e5299cd",
   "metadata": {},
   "outputs": [
    {
     "name": "stdout",
     "output_type": "stream",
     "text": [
      "Proof for leaf index 2: ['5d2c5671a1c6ea0a41e2eed3d2a08e1c786829bfa3ac2c659eef1a5f927854e0', 'd253b89cf02e59abbeb98eb24e5f68b554ae864735ae66d881de17ef56676e52', 'ea14314e7a2fdd4ce8842910b37621a9154048f496f1fdb71ff2ebbf536e33e0', '8b599542822c73218f8cc9ec6a8e91a42038ab8f43e7c4af5e8e7643056840d7', '3322a7a8636aeb42192f3fdc6ce2365e808bd22df9db5c39d4a9fd224c1e59bb', 'cd7943b6c38be5b6d2819327c039a07e7d71223fdd907c253ded349c48d2256f', '50893605747a92c9b78c609f4275ddc5e78b1a3421d0635577685f5e89cb3915', '32a4792a3128ddbfdd1b2314cdb7f9de52b75f427aea5e8bea0f68c9b93f969d', 'e9bdd800b322569f119d6eb7ea9f10bc6c1c0bb9a84fed80b5caef5015acfdab', 'f1ff2f20ad016a7000c5eb14a746075103e8dcf41b1079953299ce35b1dbe0e8']\n",
      "Merkle Proof Verification: True\n"
     ]
    }
   ],
   "source": [
    "\n",
    "# Choose a leaf to verify\n",
    "test_index = 2\n",
    "proof = get_merkle_proof(tree, test_index)\n",
    "print(f\"Proof for leaf index {test_index}: {proof}\")\n",
    "valid = verify_merkle_proof(leaves[test_index], proof, root, test_index)  # PASS index here\n",
    "print(f\"Merkle Proof Verification: {valid}\")\n"
   ]
  },
  {
   "cell_type": "markdown",
   "id": "e58a3f66",
   "metadata": {},
   "source": [
    "#### HMAC Tree Initialization and Aggregation"
   ]
  },
  {
   "cell_type": "code",
   "execution_count": 12,
   "id": "8952529a",
   "metadata": {},
   "outputs": [
    {
     "name": "stdout",
     "output_type": "stream",
     "text": [
      "\n",
      "--- HMAC Tree Section ---\n",
      "Average Temp: 24.95965\n",
      "Min Temp: 20.0\n",
      "Max Temp: 30.0\n",
      "MAC for AVG: 579470.75\n",
      "MAC for MIN: 188275.25\n",
      "MAC for MAX: 591933.50\n",
      "[DEBUG] Expected MAC for AVG: 579470.75\n",
      "[DEBUG] Provided MAC: 579470.75\n",
      "Verify AVG MAC: True\n",
      "[DEBUG] Expected MAC for MIN: 188275.25\n",
      "[DEBUG] Provided MAC: 188275.25\n",
      "Verify MIN MAC: True\n",
      "[DEBUG] Expected MAC for MAX: 591933.50\n",
      "[DEBUG] Provided MAC: 591933.50\n",
      "Verify MAX MAC: True\n"
     ]
    }
   ],
   "source": [
    "\n",
    "# --- HMAC Tree Section ---\n",
    "print(\"\\n--- HMAC Tree Section ---\")\n",
    "\n",
    "# Step 1: Initialize HMAC Tree\n",
    "key = Decimal('7.25')  # Shared secret key\n",
    "hmac_tree = HMACTree(key)\n",
    "\n",
    "# Step 2: Insert data into HMAC Tree\n",
    "for entry in raw_data:\n",
    "    hmac_tree.insert(entry['timestamp'], entry['temperature'])\n",
    "\n",
    "# Step 3: Compute and verify aggregates with MACs\n",
    "average, min_temp, max_temp, avg_mac, min_mac, max_mac = hmac_tree.compute_aggregates_and_macs()\n",
    "print(f\"Average Temp: {average}\")\n",
    "print(f\"Min Temp: {min_temp}\")\n",
    "print(f\"Max Temp: {max_temp}\")\n",
    "print(f\"MAC for AVG: {avg_mac}\")\n",
    "print(f\"MAC for MIN: {min_mac}\")\n",
    "print(f\"MAC for MAX: {max_mac}\")\n",
    "\n",
    "# Step 4: Verification\n",
    "print(f\"Verify AVG MAC: {hmac_tree.verify_aggregate_mac('AVG', average, avg_mac)}\")\n",
    "print(f\"Verify MIN MAC: {hmac_tree.verify_aggregate_mac('MIN', min_temp, min_mac)}\")\n",
    "print(f\"Verify MAX MAC: {hmac_tree.verify_aggregate_mac('MAX', max_temp, max_mac)}\")\n"
   ]
  },
  {
   "cell_type": "markdown",
   "id": "1c8fa042",
   "metadata": {},
   "source": [
    "#### Simulate Insertion of New Sensor Data"
   ]
  },
  {
   "cell_type": "code",
   "execution_count": 13,
   "id": "ae7e0eac",
   "metadata": {},
   "outputs": [
    {
     "name": "stdout",
     "output_type": "stream",
     "text": [
      "\n",
      "--- Simulate New Sensor Data Insertion ---\n",
      "Updated Merkle Root: aaf6a5036482e368dd12c8babc113104c90a3629ad5e5b08a16181d798cb5891\n",
      "Updated Average Temp: 24.9639860140\n",
      "Updated Min Temp: 20.0\n",
      "Updated Max Temp: 30.0\n",
      "Updated MAC for AVG: 660598.25\n",
      "Updated MAC for MIN: 188275.25\n",
      "Updated MAC for MAX: 591933.50\n",
      "[DEBUG] Expected MAC for AVG: 660598.25\n",
      "[DEBUG] Provided MAC: 660598.25\n",
      "Updated Verify AVG MAC: True\n"
     ]
    }
   ],
   "source": [
    "\n",
    "# --- Simulate New Sensor Data Insertion ---\n",
    "print(\"\\n--- Simulate New Sensor Data Insertion ---\")\n",
    "new_entry = {\n",
    "    \"timestamp\": \"2025-06-15T18:00:00Z\",\n",
    "    \"temperature\": 29.3,\n",
    "    \"humidity\": 65,\n",
    "    \"location\": \"Zone-C\"\n",
    "}\n",
    "\n",
    "# Insert into Merkle Tree\n",
    "raw_data.append(new_entry)\n",
    "leaves.append(hash_sensor_entry(new_entry))\n",
    "updated_tree = build_merkle_tree(leaves)\n",
    "updated_root = get_merkle_root(updated_tree)\n",
    "\n",
    "# Insert into HMAC Tree\n",
    "hmac_tree.insert(new_entry[\"timestamp\"], new_entry[\"temperature\"])\n",
    "\n",
    "# Recompute and verify updated aggregates\n",
    "updated_avg, updated_min, updated_max, updated_avg_mac, updated_min_mac, updated_max_mac = hmac_tree.compute_aggregates_and_macs()\n",
    "print(f\"Updated Merkle Root: {updated_root}\")\n",
    "print(f\"Updated Average Temp: {updated_avg}\")\n",
    "print(f\"Updated Min Temp: {updated_min}\")\n",
    "print(f\"Updated Max Temp: {updated_max}\")\n",
    "print(f\"Updated MAC for AVG: {updated_avg_mac}\")\n",
    "print(f\"Updated MAC for MIN: {updated_min_mac}\")\n",
    "print(f\"Updated MAC for MAX: {updated_max_mac}\")\n",
    "print(f\"Updated Verify AVG MAC: {hmac_tree.verify_aggregate_mac('AVG', updated_avg, updated_avg_mac)}\")\n"
   ]
  },
  {
   "cell_type": "markdown",
   "id": "6104bf17",
   "metadata": {},
   "source": [
    "#### Tampering Simulation"
   ]
  },
  {
   "cell_type": "code",
   "execution_count": 14,
   "id": "74ada201",
   "metadata": {},
   "outputs": [
    {
     "name": "stdout",
     "output_type": "stream",
     "text": [
      "\n",
      "--- Tampering Simulation ---\n",
      "Merkle Verification After Tampering: False\n",
      "Tampered Average: 25.03\n",
      "[DEBUG] Expected MAC for AVG: 375412.25\n",
      "[DEBUG] Provided MAC: 660598.25\n",
      "Verify AVG MAC After Tampering: False\n"
     ]
    }
   ],
   "source": [
    "\n",
    "# --- Tampering Simulation ---\n",
    "print(\"\\n--- Tampering Simulation ---\")\n",
    "\n",
    "# Tamper with last entry's temperature\n",
    "tampered_entry = raw_data[-1].copy()\n",
    "tampered_entry[\"temperature\"] = 100.0  # Simulate unrealistic tamper\n",
    "\n",
    "# Verify Merkle proof with tampered data\n",
    "tampered_hash = hash_sensor_entry(tampered_entry)\n",
    "tampered_index = len(leaves) - 1\n",
    "proof = get_merkle_proof(updated_tree, tampered_index)\n",
    "valid_merkle = verify_merkle_proof(tampered_hash, proof, updated_root, tampered_index)  # Pass index\n",
    "print(f\"Merkle Verification After Tampering: {valid_merkle}\")\n",
    "\n",
    "# Tampered temperature values\n",
    "tampered_temps = [Decimal(str(e[\"temperature\"])) for e in raw_data[:-1]] + [Decimal('100.0')]\n",
    "tampered_avg = round(sum(tampered_temps) / len(tampered_temps), 2)\n",
    "print(f\"Tampered Average: {tampered_avg}\")\n",
    "print(f\"Verify AVG MAC After Tampering: {hmac_tree.verify_aggregate_mac('AVG', tampered_avg, updated_avg_mac)}\")\n"
   ]
  },
  {
   "cell_type": "markdown",
   "id": "5a7cdbd4",
   "metadata": {},
   "source": [
    "### Benchmarking Code"
   ]
  },
  {
   "cell_type": "markdown",
   "id": "540b6c4e",
   "metadata": {},
   "source": [
    "#### Imports and Setup"
   ]
  },
  {
   "cell_type": "code",
   "execution_count": 16,
   "id": "23803ed1",
   "metadata": {},
   "outputs": [],
   "source": [
    "import time\n",
    "import json\n",
    "import os\n",
    "import matplotlib.pyplot as plt\n",
    "from decimal import Decimal\n",
    "\n",
    "# Import custom modules (adjust if needed)\n",
    "from merkle_tool.merkle import build_merkle_tree, get_merkle_root, hash_sensor_entry\n",
    "from hmac_tool.hmac import HMACTree\n"
   ]
  },
  {
   "cell_type": "markdown",
   "id": "70da7eac",
   "metadata": {},
   "source": [
    "####  Load Sensor Data"
   ]
  },
  {
   "cell_type": "code",
   "execution_count": 17,
   "id": "3534297c",
   "metadata": {},
   "outputs": [
    {
     "name": "stdout",
     "output_type": "stream",
     "text": [
      "✅ Total Data Points Loaded: 1000\n"
     ]
    }
   ],
   "source": [
    "# Load JSON sensor data (assumes this notebook is in the same folder as 'data/')\n",
    "data_path = os.path.join('data', 'sensor_values.json')\n",
    "\n",
    "if not os.path.exists(data_path):\n",
    "    raise FileNotFoundError(f\"Sensor data file not found at: {data_path}\")\n",
    "\n",
    "with open(data_path, 'r') as f:\n",
    "    sensor_data = json.load(f)[\"sensor_data\"]\n",
    "\n",
    "print(f\"✅ Total Data Points Loaded: {len(sensor_data)}\")\n"
   ]
  },
  {
   "cell_type": "markdown",
   "id": "9e60c07e",
   "metadata": {},
   "source": [
    "#### Split the Dataset"
   ]
  },
  {
   "cell_type": "code",
   "execution_count": 18,
   "id": "3b8230a8",
   "metadata": {},
   "outputs": [],
   "source": [
    "# Use first 10 entries for initial build and rest for insertion\n",
    "initial_entries = sensor_data[:10]\n",
    "insertion_entries = sensor_data[10:]\n"
   ]
  },
  {
   "cell_type": "markdown",
   "id": "5088d9e7",
   "metadata": {},
   "source": [
    "#### Merkle Tree Benchmark"
   ]
  },
  {
   "cell_type": "code",
   "execution_count": 19,
   "id": "2582e778",
   "metadata": {},
   "outputs": [
    {
     "name": "stdout",
     "output_type": "stream",
     "text": [
      "🔍 Benchmarking Merkle Tree...\n",
      "Merkle Root: 8d2036bfbb5873a6f4ef24993a467ec9fd870fd15d653a85abcd2f90343180ab\n",
      "Initial Build Time: 0.000215 sec\n",
      "Rebuild Time During Insertions: 0.744093 sec\n"
     ]
    }
   ],
   "source": [
    "print(\"🔍 Benchmarking Merkle Tree...\")\n",
    "\n",
    "# Initial Build\n",
    "initial_leaves = [hash_sensor_entry(entry) for entry in initial_entries]\n",
    "start_build = time.perf_counter()\n",
    "merkle_tree = build_merkle_tree(initial_leaves)\n",
    "merkle_root = get_merkle_root(merkle_tree)\n",
    "end_build = time.perf_counter()\n",
    "\n",
    "# Simulated Insertions (rebuilding after each insert)\n",
    "insert_start = time.perf_counter()\n",
    "for entry in insertion_entries:\n",
    "    initial_leaves.append(hash_sensor_entry(entry))\n",
    "    merkle_tree = build_merkle_tree(initial_leaves)\n",
    "insert_end = time.perf_counter()\n",
    "\n",
    "# Timing results\n",
    "merkle_build_time = round(end_build - start_build, 6)\n",
    "merkle_insert_time = round(insert_end - insert_start, 6)\n",
    "\n",
    "print(f\"Merkle Root: {merkle_root}\")\n",
    "print(f\"Initial Build Time: {merkle_build_time} sec\")\n",
    "print(f\"Rebuild Time During Insertions: {merkle_insert_time} sec\")\n"
   ]
  },
  {
   "cell_type": "markdown",
   "id": "de2deabd",
   "metadata": {},
   "source": [
    "#### HMAC Tree Benchmark"
   ]
  },
  {
   "cell_type": "code",
   "execution_count": 20,
   "id": "a4f51938",
   "metadata": {},
   "outputs": [
    {
     "name": "stdout",
     "output_type": "stream",
     "text": [
      "\n",
      "🔍 Benchmarking HMAC Tree...\n",
      "Initial Build Time: 0.000168 sec\n",
      "Insertion Time: 0.00635 sec\n"
     ]
    }
   ],
   "source": [
    "print(\"\\n🔍 Benchmarking HMAC Tree...\")\n",
    "\n",
    "key = Decimal('7.25')\n",
    "hmac_tree = HMACTree(key)\n",
    "\n",
    "# Initial Build\n",
    "start_build = time.perf_counter()\n",
    "for entry in initial_entries:\n",
    "    hmac_tree.insert(entry[\"timestamp\"], entry[\"temperature\"])\n",
    "end_build = time.perf_counter()\n",
    "\n",
    "# Insertions\n",
    "insert_start = time.perf_counter()\n",
    "for entry in insertion_entries:\n",
    "    hmac_tree.insert(entry[\"timestamp\"], entry[\"temperature\"])\n",
    "insert_end = time.perf_counter()\n",
    "\n",
    "# Timing results\n",
    "hmac_build_time = round(end_build - start_build, 6)\n",
    "hmac_insert_time = round(insert_end - insert_start, 6)\n",
    "\n",
    "print(f\"Initial Build Time: {hmac_build_time} sec\")\n",
    "print(f\"Insertion Time: {hmac_insert_time} sec\")\n"
   ]
  },
  {
   "cell_type": "markdown",
   "id": "3de547a5",
   "metadata": {},
   "source": [
    "#### Plot Performance Comparison"
   ]
  },
  {
   "cell_type": "code",
   "execution_count": 22,
   "id": "32b954e5",
   "metadata": {},
   "outputs": [
    {
     "data": {
      "image/png": "[encoded data removed]",
      "text/plain": [
       "<Figure size 1000x600 with 1 Axes>"
      ]
     },
     "metadata": {},
     "output_type": "display_data"
    }
   ],
   "source": [
    "plt.figure(figsize=(10, 6))\n",
    "bars = plt.bar(labels, times, color=colors)\n",
    "plt.ylabel(\"Time (seconds)\")\n",
    "plt.yscale(\"log\")  # 👈 Use log scale\n",
    "plt.title(\"Performance Comparison (Log Scale)\")\n",
    "\n",
    "# Add value labels (still works on log scale)\n",
    "for bar in bars:\n",
    "    yval = bar.get_height()\n",
    "    plt.text(bar.get_x() + bar.get_width()/2.0, yval * 1.1, f\"{yval:.6f}\", ha='center', va='bottom')\n",
    "\n",
    "plt.tight_layout()\n",
    "plt.show()\n"
   ]
  }
 ],
 "metadata": {
  "kernelspec": {
   "display_name": "Python 3 (ipykernel)",
   "language": "python",
   "name": "python3"
  },
  "language_info": {
   "codemirror_mode": {
    "name": "ipython",
    "version": 3
   },
   "file_extension": ".py",
   "mimetype": "text/x-python",
   "name": "python",
   "nbconvert_exporter": "python",
   "pygments_lexer": "ipython3",
   "version": "3.12.4"
  }
 },
 "nbformat": 4,
 "nbformat_minor": 5
}
