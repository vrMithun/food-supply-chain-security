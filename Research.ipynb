{
 "cells": [
  {
   "cell_type": "markdown",
   "id": "66fa96df-3fa8-4336-91e6-cfcccb41fde0",
   "metadata": {},
   "source": [
    "# Food Supply Chain Security Using Homomorphic MAC and Merkle Tree"
   ]
  },
  {
   "cell_type": "markdown",
   "id": "954d200b-5c92-44d9-9c80-9700cc86c9b7",
   "metadata": {},
   "source": [
    "### Install required packages"
   ]
  },
  {
   "cell_type": "code",
   "execution_count": 29,
   "id": "7a66b1ba-adbf-420c-b8a3-2d90b27dd278",
   "metadata": {},
   "outputs": [
    {
     "name": "stdout",
     "output_type": "stream",
     "text": [
      "Requirement already satisfied: matplotlib in .\\venv\\lib\\site-packages (3.10.3)\n",
      "Requirement already satisfied: contourpy>=1.0.1 in .\\venv\\lib\\site-packages (from matplotlib) (1.3.2)\n",
      "Requirement already satisfied: cycler>=0.10 in .\\venv\\lib\\site-packages (from matplotlib) (0.12.1)\n",
      "Requirement already satisfied: fonttools>=4.22.0 in .\\venv\\lib\\site-packages (from matplotlib) (4.58.2)\n",
      "Requirement already satisfied: kiwisolver>=1.3.1 in .\\venv\\lib\\site-packages (from matplotlib) (1.4.8)\n",
      "Requirement already satisfied: numpy>=1.23 in .\\venv\\lib\\site-packages (from matplotlib) (2.3.0)\n",
      "Requirement already satisfied: packaging>=20.0 in .\\venv\\lib\\site-packages (from matplotlib) (25.0)\n",
      "Requirement already satisfied: pillow>=8 in .\\venv\\lib\\site-packages (from matplotlib) (11.2.1)\n",
      "Requirement already satisfied: pyparsing>=2.3.1 in .\\venv\\lib\\site-packages (from matplotlib) (3.2.3)\n",
      "Requirement already satisfied: python-dateutil>=2.7 in .\\venv\\lib\\site-packages (from matplotlib) (2.9.0.post0)\n",
      "Requirement already satisfied: six>=1.5 in .\\venv\\lib\\site-packages (from python-dateutil>=2.7->matplotlib) (1.17.0)\n"
     ]
    },
    {
     "name": "stderr",
     "output_type": "stream",
     "text": [
      "\n",
      "[notice] A new release of pip is available: 24.0 -> 25.2\n",
      "[notice] To update, run: python.exe -m pip install --upgrade pip\n"
     ]
    }
   ],
   "source": [
    "!pip install matplotlib"
   ]
  },
  {
   "cell_type": "markdown",
   "id": "c0c320c9-f350-4a78-80b9-2f1f3ad2de5a",
   "metadata": {},
   "source": [
    "### Import necessary packages"
   ]
  },
  {
   "cell_type": "code",
   "execution_count": 30,
   "id": "9685dcad-e97d-4d68-a220-6aa88f64f92f",
   "metadata": {},
   "outputs": [],
   "source": [
    "import hashlib\n",
    "import json\n",
    "import random\n",
    "import time\n",
    "import json\n",
    "import sys\n",
    "import os"
   ]
  },
  {
   "cell_type": "markdown",
   "id": "7b925a16-8f75-43dd-a466-7cfeb11f6330",
   "metadata": {},
   "source": [
    "### Merkle tree predefined functions"
   ]
  },
  {
   "cell_type": "code",
   "execution_count": 31,
   "id": "c29b9574-8d2f-4331-8664-69ccc84b9683",
   "metadata": {},
   "outputs": [],
   "source": [
    "# Hash a single sensor entry into a leaf\n",
    "def hash_sensor_entry(entry):\n",
    "    sensor_str = f\"{entry['timestamp']}|{entry['temperature']}|{entry['humidity']}|{entry['location']}\"\n",
    "    return hashlib.sha256(sensor_str.encode()).hexdigest()\n",
    "\n",
    "# Build the full Merkle Tree\n",
    "def build_merkle_tree(leaves):\n",
    "    if not leaves:\n",
    "        return []\n",
    "    tree = [leaves[:]]  # Copy initial leaves\n",
    "    while len(tree[-1]) > 1:\n",
    "        current_level = tree[-1]\n",
    "        next_level = []\n",
    "        for i in range(0, len(current_level), 2):\n",
    "            left = current_level[i]\n",
    "            right = current_level[i + 1] if i + 1 < len(current_level) else left\n",
    "            combined = left + right\n",
    "            parent = hashlib.sha256(combined.encode()).hexdigest()\n",
    "            next_level.append(parent)\n",
    "        tree.append(next_level)\n",
    "    return tree\n",
    "\n",
    "# Extract Merkle root\n",
    "def get_merkle_root(tree):\n",
    "    return tree[-1][0] if tree else None\n",
    "\n",
    "# Load sensor data and compute leaves\n",
    "def load_sensor_data(filename):\n",
    "    with open(filename, \"r\") as f:\n",
    "        data = json.load(f)\n",
    "    sensor_data = data[\"sensor_data\"]\n",
    "    leaves = [hash_sensor_entry(entry) for entry in sensor_data]\n",
    "    return sensor_data, leaves\n",
    "\n",
    "# Merkle proof\n",
    "def get_merkle_proof(tree, index):\n",
    "    proof = []\n",
    "    for level in tree[:-1]:\n",
    "        sibling_index = index ^ 1\n",
    "        proof.append(level[sibling_index] if sibling_index < len(level) else level[index])\n",
    "        index //= 2\n",
    "    return proof\n",
    "\n",
    "# Verify proof\n",
    "def verify_merkle_proof(leaf_hash, proof, root, index):\n",
    "    computed_hash = leaf_hash\n",
    "    for sibling_hash in proof:\n",
    "        if index % 2 == 0:\n",
    "            combined = computed_hash + sibling_hash  # Left + Right\n",
    "        else:\n",
    "            combined = sibling_hash + computed_hash  # Left + Right\n",
    "        computed_hash = hashlib.sha256(combined.encode()).hexdigest()\n",
    "        index //= 2\n",
    "    return computed_hash == root\n",
    "\n",
    "\n"
   ]
  },
  {
   "cell_type": "markdown",
   "id": "e0897b72-7050-44db-8b52-4366db2433a0",
   "metadata": {},
   "source": [
    "### Homomorphic Mac predefined functions"
   ]
  },
  {
   "cell_type": "code",
   "execution_count": 32,
   "id": "d65f5af0-37a8-4992-b799-73123d36d26e",
   "metadata": {},
   "outputs": [],
   "source": [
    "from decimal import Decimal, getcontext\n",
    "\n",
    "# Set decimal precision\n",
    "getcontext().prec = 12\n",
    "\n",
    "# Hash input to decimal value\n",
    "def hash_input(input_str):\n",
    "    digest = hashlib.sha256(input_str.encode()).hexdigest()\n",
    "    return Decimal(int(digest, 16) % 10**5)\n",
    "\n",
    "# Generate homomorphic MAC\n",
    "def generate_mac_for_value(label: str, value: float, key: Decimal) -> Decimal:\n",
    "    composite = f\"{label}-{value}\"\n",
    "    return hash_input(composite) * key\n",
    "\n",
    "# Verify aggregate MAC\n",
    "def verify_mac_for_value(label: str, value: float, provided_mac: Decimal, key: Decimal) -> bool:\n",
    "    expected_mac = generate_mac_for_value(label, value, key)\n",
    "    print(f\"[DEBUG] Expected MAC for {label}: {expected_mac}\")\n",
    "    print(f\"[DEBUG] Provided MAC: {provided_mac}\")\n",
    "    return abs(expected_mac - provided_mac) < Decimal(\"0.000001\")\n",
    "\n",
    "# Node used only for structure (no rebuild needed now)\n",
    "class HMACTreeNode:\n",
    "    def __init__(self, timestamp, temperature, key):\n",
    "        self.timestamp = timestamp\n",
    "        self.temperature = Decimal(str(temperature))\n",
    "        self.key = Decimal(str(key))\n",
    "        self.tag = self.compute_tag()\n",
    "\n",
    "    def compute_tag(self):\n",
    "        composite = f\"{self.timestamp}-{self.temperature}\"\n",
    "        hashed = hash_input(composite)\n",
    "        return hashed * self.key\n",
    "\n",
    "class HMACTree:\n",
    "    def __init__(self, key):\n",
    "        self.key = Decimal(str(key))\n",
    "        self.aggregate_tag = Decimal(0)\n",
    "        self.nodes = []\n",
    "\n",
    "    def insert(self, timestamp, temperature):\n",
    "        temperature_decimal = Decimal(str(temperature))\n",
    "        node = HMACTreeNode(timestamp, temperature_decimal, self.key)\n",
    "        self.nodes.append(node)\n",
    "        self.aggregate_tag += node.tag  # Algebraic update of the tag\n",
    "\n",
    "    def compute_aggregates_and_macs(self):\n",
    "        if not self.nodes:\n",
    "            return None, None, None, None, None, None\n",
    "\n",
    "        temperatures = [node.temperature for node in self.nodes]\n",
    "\n",
    "        avg = sum(temperatures) / len(temperatures)\n",
    "        min_val = min(temperatures)\n",
    "        max_val = max(temperatures)\n",
    "\n",
    "        avg_mac = generate_mac_for_value(\"AVG\", avg, self.key)\n",
    "        min_mac = generate_mac_for_value(\"MIN\", min_val, self.key)\n",
    "        max_mac = generate_mac_for_value(\"MAX\", max_val, self.key)\n",
    "\n",
    "        return avg, min_val, max_val, avg_mac, min_mac, max_mac\n",
    "\n",
    "    def verify_aggregate_mac(self, label, value, provided_mac):\n",
    "        return verify_mac_for_value(label, value, provided_mac, self.key)\n"
   ]
  },
  {
   "cell_type": "markdown",
   "id": "1c98b06c",
   "metadata": {},
   "source": [
    "### ZKP predefined functions"
   ]
  },
  {
   "cell_type": "code",
   "execution_count": 33,
   "id": "70a57ab7",
   "metadata": {},
   "outputs": [],
   "source": [
    "import hashlib\n",
    "import os\n",
    "\n",
    "def hash_value(val: str) -> str:\n",
    "    return hashlib.sha256(val.encode()).hexdigest()\n",
    "\n",
    "def generate_zkp_proof(secret_key: str):\n",
    "    nonce = os.urandom(16).hex()\n",
    "    commitment = hash_value(secret_key + nonce)\n",
    "    return {\"commitment\": commitment, \"nonce\": nonce}\n",
    "\n",
    "def verify_zkp_proof(proof, auth_token_hash: str):\n",
    "    for known_secret in [\"secret_key_A123\", \"secret_key_B456\", \"secret_key_C789\"]:\n",
    "        if hash_value(known_secret) == auth_token_hash:\n",
    "            expected_commitment = hash_value(known_secret + proof[\"nonce\"])\n",
    "            return expected_commitment == proof[\"commitment\"]\n",
    "    return False\n"
   ]
  },
  {
   "cell_type": "markdown",
   "id": "3290b4e7-73dd-400c-9c67-535eac0ad2cb",
   "metadata": {},
   "source": [
    "### Main code"
   ]
  },
  {
   "cell_type": "markdown",
   "id": "3c628187-3b0d-415b-a8dc-ede2d62c9346",
   "metadata": {},
   "source": [
    "#### Imports"
   ]
  },
  {
   "cell_type": "code",
   "execution_count": 34,
   "id": "cd423bcb",
   "metadata": {},
   "outputs": [],
   "source": [
    "from merkle_tool.merkle import (\n",
    "    load_sensor_data,\n",
    "    build_merkle_tree,\n",
    "    get_merkle_root,\n",
    "    get_merkle_proof,\n",
    "    verify_merkle_proof,\n",
    "    hash_sensor_entry\n",
    ")\n",
    "\n",
    "from hmac_tool.hmac import HMACTree  # Updated HMAC Tree\n",
    "from decimal import Decimal\n",
    "import json"
   ]
  },
  {
   "cell_type": "markdown",
   "id": "83c1bddd",
   "metadata": {},
   "source": [
    "#### Load Sensor Data and Build Merkle Tree"
   ]
  },
  {
   "cell_type": "code",
   "execution_count": 35,
   "id": "e04e7f7b",
   "metadata": {},
   "outputs": [
    {
     "name": "stdout",
     "output_type": "stream",
     "text": [
      "\n",
      "--- Loading Initial Sensor Data ---\n",
      "Merkle Root: 01fd7e0fd40a166ef192353c00698e878847a4225996e44806e1d5e82705bddf\n"
     ]
    }
   ],
   "source": [
    "print(\"\\n--- Loading Initial Sensor Data ---\")\n",
    "raw_data, leaves = load_sensor_data('data/sensor_values.json')\n",
    "tree = build_merkle_tree(leaves)\n",
    "root = get_merkle_root(tree)\n",
    "print(f\"Merkle Root: {root}\")\n"
   ]
  },
  {
   "cell_type": "markdown",
   "id": "1aeec5a8",
   "metadata": {},
   "source": [
    "#### Generate Merkle Proof and Verify It"
   ]
  },
  {
   "cell_type": "code",
   "execution_count": 36,
   "id": "1e5299cd",
   "metadata": {},
   "outputs": [
    {
     "name": "stdout",
     "output_type": "stream",
     "text": [
      "Proof for leaf index 2: ['1ea7952142f6eb9cc06750a23ec844ed52569db046a98ad296faaa0496c760fe', '61f47bd120cb025f59406f1cc0472c922478369abb1676c3837e9c71bf43245f', 'ab37699bb682cde2b71d56f478a328434d8d4c80aba6c034a8017bf3d8f8aac3', '33fb5040ff45c567fa0511fd1a29fb7168ac80e824653a1663547e8e6d544b2e', '997fec0075bc9a41fbb21eb72aa6c43e2babf57162ee48c502636cb8ad814b6b', '1db7b40226f0c8f0e1ebbd45f5a1c2fdb5e4f846d5ff5444c0e60c75e2895b9e', '616c860f785813ccfc30c48ad3ff9ab302e212b325f78aa8cd849dacdf734be9', '1fc721f774963d27b85a2163ef8f375d5e8329f499855633ab6140f029662694', '4a480867b5eb4fffc12ce198de1bf91b4c4c53954b9fb20922f52cafa9330dc4', '80fe6697653446da46aaf2fbb096f098cfcaeb37a7edf15a6898cc4b391b9b04']\n",
      "Merkle Proof Verification: True\n",
      "Merkle Proof Verification Time: 4.671999e-04 seconds\n"
     ]
    }
   ],
   "source": [
    "import time\n",
    "\n",
    "# Choose a leaf to verify\n",
    "test_index = 2\n",
    "proof = get_merkle_proof(tree, test_index)\n",
    "print(f\"Proof for leaf index {test_index}: {proof}\")\n",
    "\n",
    "# Benchmark Merkle proof verification\n",
    "start_time = time.perf_counter()\n",
    "valid = verify_merkle_proof(leaves[test_index], proof, root, test_index)\n",
    "end_time = time.perf_counter()\n",
    "\n",
    "merkle_verification_time = end_time - start_time\n",
    "\n",
    "print(f\"Merkle Proof Verification: {valid}\")\n",
    "print(f\"Merkle Proof Verification Time: {merkle_verification_time:.6e} seconds\")\n"
   ]
  },
  {
   "cell_type": "markdown",
   "id": "e58a3f66",
   "metadata": {},
   "source": [
    "#### HMAC Tree Initialization and Aggregation"
   ]
  },
  {
   "cell_type": "code",
   "execution_count": 37,
   "id": "8952529a",
   "metadata": {},
   "outputs": [
    {
     "name": "stdout",
     "output_type": "stream",
     "text": [
      "\n",
      "--- HMAC Tree Section ---\n",
      "Average Temp: 25.0456856857\n",
      "Min Temp: 20.0\n",
      "Max Temp: 30.0\n",
      "MAC for AVG: 368162.25\n",
      "MAC for MIN: 188275.25\n",
      "MAC for MAX: 591933.50\n",
      "[DEBUG] Expected MAC for AVG: 368162.25\n",
      "[DEBUG] Provided MAC: 368162.25\n",
      "Verify AVG MAC: True\n",
      "[DEBUG] Expected MAC for MIN: 188275.25\n",
      "[DEBUG] Provided MAC: 188275.25\n",
      "Verify MIN MAC: True\n",
      "[DEBUG] Expected MAC for MAX: 591933.50\n",
      "[DEBUG] Provided MAC: 591933.50\n",
      "Verify MAX MAC: True\n"
     ]
    }
   ],
   "source": [
    "\n",
    "# --- HMAC Tree Section ---\n",
    "print(\"\\n--- HMAC Tree Section ---\")\n",
    "\n",
    "# Step 1: Initialize HMAC Tree\n",
    "key = Decimal('7.25')  # Shared secret key\n",
    "hmac_tree = HMACTree(key)\n",
    "\n",
    "# Step 2: Insert data into HMAC Tree\n",
    "for entry in raw_data:\n",
    "    hmac_tree.insert(entry['timestamp'], entry['temperature'])\n",
    "\n",
    "# Step 3: Compute and verify aggregates with MACs\n",
    "average, min_temp, max_temp, avg_mac, min_mac, max_mac = hmac_tree.compute_aggregates_and_macs()\n",
    "print(f\"Average Temp: {average}\")\n",
    "print(f\"Min Temp: {min_temp}\")\n",
    "print(f\"Max Temp: {max_temp}\")\n",
    "print(f\"MAC for AVG: {avg_mac}\")\n",
    "print(f\"MAC for MIN: {min_mac}\")\n",
    "print(f\"MAC for MAX: {max_mac}\")\n",
    "\n",
    "# Step 4: Verification\n",
    "print(f\"Verify AVG MAC: {hmac_tree.verify_aggregate_mac('AVG', average, avg_mac)}\")\n",
    "print(f\"Verify MIN MAC: {hmac_tree.verify_aggregate_mac('MIN', min_temp, min_mac)}\")\n",
    "print(f\"Verify MAX MAC: {hmac_tree.verify_aggregate_mac('MAX', max_temp, max_mac)}\")\n"
   ]
  },
  {
   "cell_type": "markdown",
   "id": "1c8fa042",
   "metadata": {},
   "source": [
    "#### Simulate Insertion of New Sensor Data"
   ]
  },
  {
   "cell_type": "code",
   "execution_count": 38,
   "id": "ae7e0eac",
   "metadata": {},
   "outputs": [
    {
     "name": "stdout",
     "output_type": "stream",
     "text": [
      "\n",
      "--- Simulate New Sensor Data Insertion ---\n",
      "[DEBUG] Expected MAC for AVG: 96461.25\n",
      "[DEBUG] Provided MAC: 96461.25\n",
      "[DEBUG] Expected MAC for MIN: 188275.25\n",
      "[DEBUG] Provided MAC: 188275.25\n",
      "[DEBUG] Expected MAC for MAX: 591933.50\n",
      "[DEBUG] Provided MAC: 591933.50\n",
      "Updated Merkle Root: fb71a3a4e21433abf51c1b452839314d3e57e402ae012d5957cdb81a72579d8a\n",
      "[Merkle] AVG: 25.04994, MIN: 20.0, MAX: 30.0\n",
      "[Merkle] Time for Aggregate Calculation: 0.002049 seconds\n",
      "[HMAC] AVG: 25.04994, MIN: 20.0, MAX: 30.0\n",
      "[HMAC] Verify AVG MAC: True\n",
      "[HMAC] Verify MIN MAC: True\n",
      "[HMAC] Verify MAX MAC: True\n",
      "[HMAC] Time for MAC Verification: 0.001240 seconds\n"
     ]
    }
   ],
   "source": [
    "import time\n",
    "import hashlib\n",
    "\n",
    "# Simulate new sensor entry\n",
    "new_entry = {\n",
    "    \"timestamp\": \"2025-06-15T18:00:00Z\",\n",
    "    \"temperature\": 29.3,\n",
    "    \"humidity\": 65,\n",
    "    \"location\": \"Zone-C\"\n",
    "}\n",
    "\n",
    "print(\"\\n--- Simulate New Sensor Data Insertion ---\")\n",
    "\n",
    "# === MERKLE TREE AGGREGATE VERIFICATION ===\n",
    "raw_data.append(new_entry)\n",
    "leaves.append(hash_sensor_entry(new_entry))\n",
    "\n",
    "# Time Merkle verification: recomputing aggregate from raw data\n",
    "start_merkle = time.time()\n",
    "updated_avg_merkle = sum(e['temperature'] for e in raw_data) / len(raw_data)\n",
    "updated_min_merkle = min(e['temperature'] for e in raw_data)\n",
    "updated_max_merkle = max(e['temperature'] for e in raw_data)\n",
    "end_merkle = time.time()\n",
    "merkle_verification_time = end_merkle - start_merkle\n",
    "\n",
    "# Build updated Merkle tree\n",
    "updated_tree = build_merkle_tree(leaves)\n",
    "updated_root = get_merkle_root(updated_tree)\n",
    "\n",
    "# === HMAC TREE AGGREGATE VERIFICATION ===\n",
    "hmac_tree.insert(new_entry[\"timestamp\"], new_entry[\"temperature\"])\n",
    "\n",
    "start_hmac = time.time()\n",
    "updated_avg, updated_min, updated_max, updated_avg_mac, updated_min_mac, updated_max_mac = hmac_tree.compute_aggregates_and_macs()\n",
    "verify_avg = hmac_tree.verify_aggregate_mac(\"AVG\", updated_avg, updated_avg_mac)\n",
    "verify_min = hmac_tree.verify_aggregate_mac(\"MIN\", updated_min, updated_min_mac)\n",
    "verify_max = hmac_tree.verify_aggregate_mac(\"MAX\", updated_max, updated_max_mac)\n",
    "end_hmac = time.time()\n",
    "hmac_verification_time = end_hmac - start_hmac\n",
    "\n",
    "# === Results ===\n",
    "print(f\"Updated Merkle Root: {updated_root}\")\n",
    "print(f\"[Merkle] AVG: {updated_avg_merkle}, MIN: {updated_min_merkle}, MAX: {updated_max_merkle}\")\n",
    "print(f\"[Merkle] Time for Aggregate Calculation: {merkle_verification_time:.6f} seconds\")\n",
    "\n",
    "print(f\"[HMAC] AVG: {updated_avg}, MIN: {updated_min}, MAX: {updated_max}\")\n",
    "print(f\"[HMAC] Verify AVG MAC: {verify_avg}\")\n",
    "print(f\"[HMAC] Verify MIN MAC: {verify_min}\")\n",
    "print(f\"[HMAC] Verify MAX MAC: {verify_max}\")\n",
    "print(f\"[HMAC] Time for MAC Verification: {hmac_verification_time:.6f} seconds\")\n"
   ]
  },
  {
   "cell_type": "code",
   "execution_count": 39,
   "id": "6a94664d",
   "metadata": {},
   "outputs": [
    {
     "data": {
      "image/png": "[encoded data removed]",
      "text/plain": [
       "<Figure size 1000x600 with 1 Axes>"
      ]
     },
     "metadata": {},
     "output_type": "display_data"
    }
   ],
   "source": [
    "import matplotlib.pyplot as plt\n",
    "\n",
    "# Use actual timing variables from your script\n",
    "labels = ['Merkle Tree', 'HMAC Tree']\n",
    "times = [merkle_verification_time, hmac_verification_time]\n",
    "colors = ['#4c72b0', '#55a868']\n",
    "\n",
    "plt.figure(figsize=(10, 6))\n",
    "bars = plt.bar(labels, times, color=colors)\n",
    "plt.ylabel(\"Time (seconds)\")\n",
    "plt.yscale(\"log\")  # Use log scale to make small differences more visible\n",
    "plt.title(\"Aggregate Verification Time: Merkle Tree vs HMAC Tree\")\n",
    "\n",
    "# Annotate each bar with the actual time value\n",
    "for bar in bars:\n",
    "    yval = bar.get_height()\n",
    "    plt.text(bar.get_x() + bar.get_width()/2.0, yval * 1.1, f\"{yval:.6f}s\", ha='center', va='bottom')\n",
    "\n",
    "plt.grid(True, which=\"both\", linestyle=\"--\", linewidth=0.5)\n",
    "plt.tight_layout()\n",
    "plt.show()"
   ]
  },
  {
   "cell_type": "markdown",
   "id": "6104bf17",
   "metadata": {},
   "source": [
    "#### Tampering Simulation"
   ]
  },
  {
   "cell_type": "code",
   "execution_count": 40,
   "id": "74ada201",
   "metadata": {},
   "outputs": [
    {
     "name": "stdout",
     "output_type": "stream",
     "text": [
      "\n",
      "--- Tampering Simulation ---\n",
      "Merkle Verification After Tampering: False\n",
      "Tampered Average: 25.12\n",
      "[DEBUG] Expected MAC for AVG: 439922.75\n",
      "[DEBUG] Provided MAC: 96461.25\n",
      "Verify AVG MAC After Tampering: False\n"
     ]
    }
   ],
   "source": [
    "\n",
    "# --- Tampering Simulation ---\n",
    "print(\"\\n--- Tampering Simulation ---\")\n",
    "\n",
    "# Tamper with last entry's temperature\n",
    "tampered_entry = raw_data[-1].copy()\n",
    "tampered_entry[\"temperature\"] = 100.0  # Simulate unrealistic tamper\n",
    "\n",
    "# Verify Merkle proof with tampered data\n",
    "tampered_hash = hash_sensor_entry(tampered_entry)\n",
    "tampered_index = len(leaves) - 1\n",
    "proof = get_merkle_proof(updated_tree, tampered_index)\n",
    "valid_merkle = verify_merkle_proof(tampered_hash, proof, updated_root, tampered_index)  # Pass index\n",
    "print(f\"Merkle Verification After Tampering: {valid_merkle}\")\n",
    "\n",
    "# Tampered temperature values\n",
    "tampered_temps = [Decimal(str(e[\"temperature\"])) for e in raw_data[:-1]] + [Decimal('100.0')]\n",
    "tampered_avg = round(sum(tampered_temps) / len(tampered_temps), 2)\n",
    "print(f\"Tampered Average: {tampered_avg}\")\n",
    "print(f\"Verify AVG MAC After Tampering: {hmac_tree.verify_aggregate_mac('AVG', tampered_avg, updated_avg_mac)}\")\n"
   ]
  },
  {
   "cell_type": "markdown",
   "id": "5a7cdbd4",
   "metadata": {},
   "source": [
    "### Benchmarking Code"
   ]
  },
  {
   "cell_type": "markdown",
   "id": "540b6c4e",
   "metadata": {},
   "source": [
    "#### Imports and Setup"
   ]
  },
  {
   "cell_type": "code",
   "execution_count": 41,
   "id": "23803ed1",
   "metadata": {},
   "outputs": [],
   "source": [
    "import time\n",
    "import matplotlib.pyplot as plt\n",
    "\n",
    "# Import custom modules (adjust if needed)\n",
    "from merkle_tool.merkle import build_merkle_tree, get_merkle_root, hash_sensor_entry\n",
    "from hmac_tool.hmac import HMACTree\n"
   ]
  },
  {
   "cell_type": "markdown",
   "id": "70da7eac",
   "metadata": {},
   "source": [
    "####  Load Sensor Data"
   ]
  },
  {
   "cell_type": "code",
   "execution_count": 42,
   "id": "3534297c",
   "metadata": {},
   "outputs": [
    {
     "name": "stdout",
     "output_type": "stream",
     "text": [
      "✅ Total Data Points Loaded: 999\n"
     ]
    }
   ],
   "source": [
    "# Load JSON sensor data (assumes this notebook is in the same folder as 'data/')\n",
    "data_path = os.path.join('data', 'sensor_values.json')\n",
    "\n",
    "if not os.path.exists(data_path):\n",
    "    raise FileNotFoundError(f\"Sensor data file not found at: {data_path}\")\n",
    "\n",
    "with open(data_path, 'r') as f:\n",
    "    sensor_data = json.load(f)[\"sensor_data\"]\n",
    "\n",
    "print(f\"✅ Total Data Points Loaded: {len(sensor_data)}\")\n"
   ]
  },
  {
   "cell_type": "markdown",
   "id": "9e60c07e",
   "metadata": {},
   "source": [
    "#### Split the Dataset"
   ]
  },
  {
   "cell_type": "code",
   "execution_count": 43,
   "id": "3b8230a8",
   "metadata": {},
   "outputs": [],
   "source": [
    "# Use first 10 entries for initial build and rest for insertion\n",
    "initial_entries = sensor_data[:10]\n",
    "insertion_entries = sensor_data[10:]\n"
   ]
  },
  {
   "cell_type": "markdown",
   "id": "5088d9e7",
   "metadata": {},
   "source": [
    "#### Merkle Tree Benchmark"
   ]
  },
  {
   "cell_type": "code",
   "execution_count": 44,
   "id": "2582e778",
   "metadata": {},
   "outputs": [
    {
     "name": "stdout",
     "output_type": "stream",
     "text": [
      "🔍 Benchmarking Merkle Tree...\n",
      "Merkle Root: ddd0d260fd1fb12bbf2f9ff88177e976dddec8ccc81116ed947ba2e332649164\n",
      "Initial Build Time: 0.000537 sec\n",
      "Rebuild Time During Insertions: 1.671323 sec\n"
     ]
    }
   ],
   "source": [
    "print(\"🔍 Benchmarking Merkle Tree...\")\n",
    "\n",
    "# Initial Build\n",
    "initial_leaves = [hash_sensor_entry(entry) for entry in initial_entries]\n",
    "start_build = time.perf_counter()\n",
    "merkle_tree = build_merkle_tree(initial_leaves)\n",
    "merkle_root = get_merkle_root(merkle_tree)\n",
    "end_build = time.perf_counter()\n",
    "\n",
    "# Simulated Insertions (rebuilding after each insert)\n",
    "insert_start = time.perf_counter()\n",
    "for entry in insertion_entries:\n",
    "    initial_leaves.append(hash_sensor_entry(entry))\n",
    "    merkle_tree = build_merkle_tree(initial_leaves)\n",
    "insert_end = time.perf_counter()\n",
    "\n",
    "# Timing results\n",
    "merkle_build_time = round(end_build - start_build, 6)\n",
    "merkle_insert_time = round(insert_end - insert_start, 6)\n",
    "\n",
    "print(f\"Merkle Root: {merkle_root}\")\n",
    "print(f\"Initial Build Time: {merkle_build_time} sec\")\n",
    "print(f\"Rebuild Time During Insertions: {merkle_insert_time} sec\")\n"
   ]
  },
  {
   "cell_type": "markdown",
   "id": "de2deabd",
   "metadata": {},
   "source": [
    "#### HMAC Tree Benchmark"
   ]
  },
  {
   "cell_type": "code",
   "execution_count": 45,
   "id": "a4f51938",
   "metadata": {},
   "outputs": [
    {
     "name": "stdout",
     "output_type": "stream",
     "text": [
      "\n",
      "🔍 Benchmarking HMAC Tree...\n",
      "Initial Build Time: 0.0003 sec\n",
      "Insertion Time: 0.012028 sec\n"
     ]
    }
   ],
   "source": [
    "print(\"\\n🔍 Benchmarking HMAC Tree...\")\n",
    "\n",
    "key = Decimal('7.25')\n",
    "hmac_tree = HMACTree(key)\n",
    "\n",
    "# Initial Build\n",
    "start_build = time.perf_counter()\n",
    "for entry in initial_entries:\n",
    "    hmac_tree.insert(entry[\"timestamp\"], entry[\"temperature\"])\n",
    "end_build = time.perf_counter()\n",
    "\n",
    "# Insertions\n",
    "insert_start = time.perf_counter()\n",
    "for entry in insertion_entries:\n",
    "    hmac_tree.insert(entry[\"timestamp\"], entry[\"temperature\"])\n",
    "insert_end = time.perf_counter()\n",
    "\n",
    "# Timing results\n",
    "hmac_build_time = round(end_build - start_build, 6)\n",
    "hmac_insert_time = round(insert_end - insert_start, 6)\n",
    "\n",
    "print(f\"Initial Build Time: {hmac_build_time} sec\")\n",
    "print(f\"Insertion Time: {hmac_insert_time} sec\")\n"
   ]
  },
  {
   "cell_type": "markdown",
   "id": "3de547a5",
   "metadata": {},
   "source": [
    "#### Plot Performance Comparison"
   ]
  },
  {
   "cell_type": "code",
   "execution_count": 46,
   "id": "32b954e5",
   "metadata": {},
   "outputs": [
    {
     "data": {
      "image/png": "[encoded data removed]",
      "text/plain": [
       "<Figure size 1000x600 with 1 Axes>"
      ]
     },
     "metadata": {},
     "output_type": "display_data"
    }
   ],
   "source": [
    "labels = ['Merkle Build', 'Merkle Insert', 'HMAC Build', 'HMAC Insert']\n",
    "times = [merkle_build_time, merkle_insert_time, hmac_build_time, hmac_insert_time]\n",
    "colors = ['#4285F4', '#34A853', '#FBBC05', '#EA4335']\n",
    "plt.figure(figsize=(10, 6))\n",
    "bars = plt.bar(labels, times, color=colors)\n",
    "plt.ylabel(\"Time (seconds)\")\n",
    "plt.yscale(\"log\")  # 👈 Use log scale\n",
    "plt.title(\"Performance Comparison (Log Scale)\")\n",
    "\n",
    "# Add value labels (still works on log scale)\n",
    "for bar in bars:\n",
    "    yval = bar.get_height()\n",
    "    plt.text(bar.get_x() + bar.get_width()/2.0, yval * 1.1, f\"{yval:.6f}\", ha='center', va='bottom')\n",
    "\n",
    "plt.tight_layout()\n",
    "plt.show()"
   ]
  },
  {
   "cell_type": "markdown",
   "id": "ee90d8f9",
   "metadata": {},
   "source": [
    "# ZPK vs Merkle Tree"
   ]
  },
  {
   "cell_type": "markdown",
   "id": "0af6de5a",
   "metadata": {},
   "source": [
    "### Importing necessary functions"
   ]
  },
  {
   "cell_type": "code",
   "execution_count": 47,
   "id": "373ecac4",
   "metadata": {},
   "outputs": [],
   "source": [
    "# --- Imports ---\n",
    "import json\n",
    "import time\n",
    "import hashlib\n",
    "import matplotlib.pyplot as plt\n",
    "from decimal import Decimal\n",
    "\n",
    "# Import predefined functions (already in your project)\n",
    "# from merkle_tool.merkle import (\n",
    "#     load_sensor_data, build_merkle_tree, get_merkle_root,\n",
    "#     get_merkle_proof, verify_merkle_proof, hash_sensor_entry\n",
    "# )\n",
    "# from zkp_tool.zkp import generate_zkp_proof, verify_zkp_proof\n",
    "\n",
    "# For this notebook, we assume the functions are already defined in the session.\n"
   ]
  },
  {
   "cell_type": "markdown",
   "id": "f8e0363d",
   "metadata": {},
   "source": [
    "### Loading Sensor Data"
   ]
  },
  {
   "cell_type": "code",
   "execution_count": 48,
   "id": "4329a8de",
   "metadata": {},
   "outputs": [
    {
     "name": "stdout",
     "output_type": "stream",
     "text": [
      "\n",
      "--- Loading Sensor Data ---\n",
      "Loaded 999 sensor entries\n"
     ]
    }
   ],
   "source": [
    "print(\"\\n--- Loading Sensor Data ---\")\n",
    "raw_data, leaves = load_sensor_data(\"data/sensor_values.json\")\n",
    "print(f\"Loaded {len(raw_data)} sensor entries\")\n"
   ]
  },
  {
   "cell_type": "markdown",
   "id": "fd6c8ba9",
   "metadata": {},
   "source": [
    "### Merkle Tree Verification Benchmark"
   ]
  },
  {
   "cell_type": "code",
   "execution_count": 49,
   "id": "f83899a4",
   "metadata": {},
   "outputs": [
    {
     "name": "stdout",
     "output_type": "stream",
     "text": [
      "\n",
      "--- Merkle Tree Verification ---\n",
      "Merkle Proof Verification: True\n",
      "Merkle Verification Time: 3.321001e-04 seconds\n"
     ]
    }
   ],
   "source": [
    "print(\"\\n--- Merkle Tree Verification ---\")\n",
    "tree = build_merkle_tree(leaves)\n",
    "root = get_merkle_root(tree)\n",
    "\n",
    "test_index = 10\n",
    "proof = get_merkle_proof(tree, test_index)\n",
    "\n",
    "start_merkle = time.perf_counter()\n",
    "valid_merkle = verify_merkle_proof(leaves[test_index], proof, root, test_index)\n",
    "end_merkle = time.perf_counter()\n",
    "\n",
    "merkle_time = end_merkle - start_merkle\n",
    "print(f\"Merkle Proof Verification: {valid_merkle}\")\n",
    "print(f\"Merkle Verification Time: {merkle_time:.6e} seconds\")\n"
   ]
  },
  {
   "cell_type": "markdown",
   "id": "a54004b6",
   "metadata": {},
   "source": [
    "### ZKP Verification Benchmark"
   ]
  },
  {
   "cell_type": "code",
   "execution_count": 50,
   "id": "96891799",
   "metadata": {},
   "outputs": [
    {
     "name": "stdout",
     "output_type": "stream",
     "text": [
      "\n",
      "--- ZKP Verification ---\n",
      "ZKP Verification: True\n",
      "ZKP Verification Time: 2.279000e-04 seconds\n"
     ]
    }
   ],
   "source": [
    "print(\"\\n--- ZKP Verification ---\")\n",
    "\n",
    "# Use first sensor's auth token for proof\n",
    "auth_token_hash = raw_data[0][\"auth_token_hash\"]\n",
    "\n",
    "# Generate proof\n",
    "proof = generate_zkp_proof(\"secret_key_A123\")\n",
    "\n",
    "# Verify proof\n",
    "start_zkp = time.perf_counter()\n",
    "valid_zkp = verify_zkp_proof(proof, auth_token_hash)\n",
    "end_zkp = time.perf_counter()\n",
    "\n",
    "zkp_time = end_zkp - start_zkp\n",
    "print(f\"ZKP Verification: {valid_zkp}\")\n",
    "print(f\"ZKP Verification Time: {zkp_time:.6e} seconds\")\n"
   ]
  },
  {
   "cell_type": "markdown",
   "id": "2a490fdf",
   "metadata": {},
   "source": [
    "### Tampering Simulation"
   ]
  },
  {
   "cell_type": "code",
   "execution_count": 51,
   "id": "f86b848c",
   "metadata": {},
   "outputs": [
    {
     "name": "stdout",
     "output_type": "stream",
     "text": [
      "\n",
      "--- Tampering Simulation ---\n",
      "Merkle Verification After Tampering: False\n",
      "ZKP Verification After Tampering: False\n"
     ]
    }
   ],
   "source": [
    "print(\"\\n--- Tampering Simulation ---\")\n",
    "\n",
    "# Tamper sensor data\n",
    "tampered_entry = raw_data[0].copy()\n",
    "tampered_entry[\"temperature\"] = 99.9\n",
    "tampered_hash = hash_sensor_entry(tampered_entry)\n",
    "\n",
    "# Merkle proof check (should fail)\n",
    "tampered_proof = get_merkle_proof(tree, 0)\n",
    "valid_merkle_tampered = verify_merkle_proof(tampered_hash, tampered_proof, root, 0)\n",
    "\n",
    "# ZKP check with wrong secret\n",
    "wrong_proof = generate_zkp_proof(\"wrong_secret\")\n",
    "valid_zkp_tampered = verify_zkp_proof(wrong_proof, auth_token_hash)\n",
    "\n",
    "print(f\"Merkle Verification After Tampering: {valid_merkle_tampered}\")\n",
    "print(f\"ZKP Verification After Tampering: {valid_zkp_tampered}\")\n"
   ]
  },
  {
   "cell_type": "markdown",
   "id": "10ecfd24",
   "metadata": {},
   "source": [
    "### Comparison & Visualization"
   ]
  },
  {
   "cell_type": "code",
   "execution_count": 52,
   "id": "6a01d41e",
   "metadata": {},
   "outputs": [
    {
     "name": "stdout",
     "output_type": "stream",
     "text": [
      "Requirement already satisfied: pandas in .\\venv\\lib\\site-packages (2.3.2)\n",
      "Requirement already satisfied: numpy>=1.26.0 in .\\venv\\lib\\site-packages (from pandas) (2.3.0)\n",
      "Requirement already satisfied: python-dateutil>=2.8.2 in .\\venv\\lib\\site-packages (from pandas) (2.9.0.post0)\n",
      "Requirement already satisfied: pytz>=2020.1 in .\\venv\\lib\\site-packages (from pandas) (2025.2)\n",
      "Requirement already satisfied: tzdata>=2022.7 in .\\venv\\lib\\site-packages (from pandas) (2025.2)\n",
      "Requirement already satisfied: six>=1.5 in .\\venv\\lib\\site-packages (from python-dateutil>=2.8.2->pandas) (1.17.0)\n"
     ]
    },
    {
     "name": "stderr",
     "output_type": "stream",
     "text": [
      "\n",
      "[notice] A new release of pip is available: 24.0 -> 25.2\n",
      "[notice] To update, run: python.exe -m pip install --upgrade pip\n"
     ]
    }
   ],
   "source": [
    "!pip install pandas"
   ]
  },
  {
   "cell_type": "code",
   "execution_count": 65,
   "id": "d365a6f2",
   "metadata": {},
   "outputs": [
    {
     "data": {
      "text/html": [
       "<div>\n",
       "<style scoped>\n",
       "    .dataframe tbody tr th:only-of-type {\n",
       "        vertical-align: middle;\n",
       "    }\n",
       "\n",
       "    .dataframe tbody tr th {\n",
       "        vertical-align: top;\n",
       "    }\n",
       "\n",
       "    .dataframe thead th {\n",
       "        text-align: right;\n",
       "    }\n",
       "</style>\n",
       "<table border=\"1\" class=\"dataframe\">\n",
       "  <thead>\n",
       "    <tr style=\"text-align: right;\">\n",
       "      <th></th>\n",
       "      <th>Method</th>\n",
       "      <th>Verification Time (s)</th>\n",
       "      <th>Valid</th>\n",
       "    </tr>\n",
       "  </thead>\n",
       "  <tbody>\n",
       "    <tr>\n",
       "      <th>0</th>\n",
       "      <td>Merkle Tree</td>\n",
       "      <td>0.000332</td>\n",
       "      <td>True</td>\n",
       "    </tr>\n",
       "    <tr>\n",
       "      <th>1</th>\n",
       "      <td>ZKP</td>\n",
       "      <td>0.000228</td>\n",
       "      <td>True</td>\n",
       "    </tr>\n",
       "  </tbody>\n",
       "</table>\n",
       "</div>"
      ],
      "text/plain": [
       "        Method  Verification Time (s)  Valid\n",
       "0  Merkle Tree               0.000332   True\n",
       "1          ZKP               0.000228   True"
      ]
     },
     "metadata": {},
     "output_type": "display_data"
    },
    {
     "data": {
      "image/png": "[encoded data removed]",
      "text/plain": [
       "<Figure size 800x600 with 1 Axes>"
      ]
     },
     "metadata": {},
     "output_type": "display_data"
    }
   ],
   "source": [
    "import pandas as pd\n",
    "\n",
    "results = pd.DataFrame([\n",
    "    {\"Method\": \"Merkle Tree\", \"Verification Time (s)\": merkle_time, \"Valid\": valid_merkle},\n",
    "    {\"Method\": \"ZKP\", \"Verification Time (s)\": zkp_time, \"Valid\": valid_zkp},\n",
    "])\n",
    "\n",
    "display(results)\n",
    "\n",
    "# Bar Chart\n",
    "plt.figure(figsize=(8,6))\n",
    "plt.bar(results[\"Method\"], results[\"Verification Time (s)\"], color=[\"#4c72b0\", \"#55a868\"])\n",
    "plt.ylabel(\"Time (seconds)\")\n",
    "plt.title(\"Merkle Tree vs ZKP Verification Time\")\n",
    "plt.yscale(\"log\")\n",
    "for i, v in enumerate(results[\"Verification Time (s)\"]):\n",
    "    plt.text(i, v, f\"{v:.6e}s\", ha='center')\n",
    "plt.show()\n"
   ]
  },
  {
   "cell_type": "code",
   "execution_count": null,
   "id": "fd314f1b",
   "metadata": {},
   "outputs": [],
   "source": []
  }
 ],
 "metadata": {
  "kernelspec": {
   "display_name": "venv (3.12.4)",
   "language": "python",
   "name": "python3"
  },
  "language_info": {
   "codemirror_mode": {
    "name": "ipython",
    "version": 3
   },
   "file_extension": ".py",
   "mimetype": "text/x-python",
   "name": "python",
   "nbconvert_exporter": "python",
   "pygments_lexer": "ipython3",
   "version": "3.12.4"
  }
 },
 "nbformat": 4,
 "nbformat_minor": 5
}
